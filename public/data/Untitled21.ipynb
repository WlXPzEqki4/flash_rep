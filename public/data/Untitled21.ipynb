{
 "cells": [
  {
   "cell_type": "code",
   "execution_count": 2,
   "id": "252b715f-6d23-465e-9484-9c2928b7c458",
   "metadata": {},
   "outputs": [],
   "source": [
    "import json\n",
    "import requests\n",
    "import pandas as pd\n"
   ]
  },
  {
   "cell_type": "code",
   "execution_count": 4,
   "id": "3e460c1b-13a5-4b68-8093-43e0b07186b3",
   "metadata": {},
   "outputs": [
    {
     "name": "stdout",
     "output_type": "stream",
     "text": [
      "CSV file has been saved as 'country_names.csv'\n"
     ]
    }
   ],
   "source": [
    "\n",
    "# URL of the TopoJSON file\n",
    "url = \"https://cdn.jsdelivr.net/npm/world-atlas@2/countries-50m.json\"\n",
    "\n",
    "# Download and load the TopoJSON file\n",
    "response = requests.get(url)\n",
    "if response.status_code == 200:\n",
    "    topojson_data = response.json()\n",
    "else:\n",
    "    raise Exception(f\"Failed to fetch data from URL. Status code: {response.status_code}\")\n",
    "\n",
    "# Extract country names from the JSON\n",
    "geometries = topojson_data['objects']['countries']['geometries']\n",
    "country_names = [geometry['properties']['name'] for geometry in geometries]\n",
    "\n",
    "# Create a DataFrame\n",
    "df = pd.DataFrame(country_names, columns=['Country Name'])\n",
    "\n",
    "# Save the DataFrame as a CSV in the local folder\n",
    "csv_path = \"country_names.csv\"\n",
    "df.to_csv(csv_path, index=False)\n",
    "\n",
    "print(f\"CSV file has been saved as '{csv_path}'\")\n"
   ]
  },
  {
   "cell_type": "code",
   "execution_count": null,
   "id": "fd4bddd1-e83b-497c-8199-1bd65a28441c",
   "metadata": {},
   "outputs": [],
   "source": []
  },
  {
   "cell_type": "code",
   "execution_count": null,
   "id": "61d43b0d-69bd-42fe-ac1f-232e56d5e280",
   "metadata": {},
   "outputs": [],
   "source": []
  },
  {
   "cell_type": "code",
   "execution_count": null,
   "id": "9bf91ca3-d367-4d05-953e-f91346c3495f",
   "metadata": {},
   "outputs": [],
   "source": []
  },
  {
   "cell_type": "code",
   "execution_count": null,
   "id": "73e63551-6836-4c1e-8cad-646cc2e89b37",
   "metadata": {},
   "outputs": [],
   "source": []
  },
  {
   "cell_type": "code",
   "execution_count": null,
   "id": "66247b2d-adda-429b-8990-95e57ec0d37d",
   "metadata": {},
   "outputs": [],
   "source": []
  },
  {
   "cell_type": "code",
   "execution_count": null,
   "id": "963153ba-a81f-46e8-9875-f63ea71d1936",
   "metadata": {},
   "outputs": [],
   "source": []
  },
  {
   "cell_type": "code",
   "execution_count": null,
   "id": "0f8a3d5a-3f37-4147-90d7-843b53f07c0b",
   "metadata": {},
   "outputs": [],
   "source": []
  }
 ],
 "metadata": {
  "kernelspec": {
   "display_name": "Python 3 (ipykernel)",
   "language": "python",
   "name": "python3"
  },
  "language_info": {
   "codemirror_mode": {
    "name": "ipython",
    "version": 3
   },
   "file_extension": ".py",
   "mimetype": "text/x-python",
   "name": "python",
   "nbconvert_exporter": "python",
   "pygments_lexer": "ipython3",
   "version": "3.12.2"
  }
 },
 "nbformat": 4,
 "nbformat_minor": 5
}
